{
 "cells": [
  {
   "cell_type": "markdown",
   "metadata": {},
   "source": [
    "# Dados de Saúde Mental nas escolas brasileiras 2019\n",
    "## Análise realizada por Victor Gabriel Andrade de Melo e José Roberto Martins de França da turma 1° ADS B - Fatec.\n",
    "### Os dados estão disponíveis em: https://www.ibge.gov.br/estatisticas/sociais/saude/9134-pesquisa-nacional-de-saude-do-escolar.html?=&t=resultados\n",
    "\n",
    "Esta análise de dados foi feita para a obtenção de nota em um curso oferecido pela FATEC, por isto, não nos responsabilizamos na forma que estes dados possam ser utilizados futuramente."
   ]
  },
  {
   "cell_type": "code",
   "execution_count": 1,
   "metadata": {},
   "outputs": [],
   "source": [
    "import pandas\n",
    "low_memory = False\n",
    "import matplotlib\n",
    "%matplotlib inline "
   ]
  },
  {
   "cell_type": "code",
   "execution_count": 2,
   "metadata": {},
   "outputs": [],
   "source": [
    "arq = r'C:\\Users\\Dell\\Downloads\\Casos_Saude_mental_2019.xlsx'\n",
    "leitura = pandas.read_excel(arq)"
   ]
  },
  {
   "cell_type": "markdown",
   "metadata": {},
   "source": [
    "### Após a importação das bibliotecas necessárias e a preparação para a leitura do arquivo, vamos iniciar algumas análises."
   ]
  },
  {
   "cell_type": "code",
   "execution_count": 3,
   "metadata": {},
   "outputs": [
    {
     "data": {
      "text/plain": [
       "(33, 6)"
      ]
     },
     "execution_count": 3,
     "metadata": {},
     "output_type": "execute_result"
    }
   ],
   "source": [
    "leitura.shape"
   ]
  },
  {
   "cell_type": "code",
   "execution_count": 4,
   "metadata": {},
   "outputs": [
    {
     "name": "stdout",
     "output_type": "stream",
     "text": [
      "<class 'pandas.core.frame.DataFrame'>\n",
      "RangeIndex: 33 entries, 0 to 32\n",
      "Data columns (total 6 columns):\n",
      " #   Column                                   Non-Null Count  Dtype  \n",
      "---  ------                                   --------------  -----  \n",
      " 0   Regiões e Estados do Brasil              33 non-null     object \n",
      " 1   Percentual de casos totais               33 non-null     float64\n",
      " 2   Percentual de casos por sexo masculino   33 non-null     float64\n",
      " 3   Percentual de casos por sexo feminino    33 non-null     float64\n",
      " 4   Percentual de casos em escolas públicas  33 non-null     float64\n",
      " 5   Percentual de casos em escolas privadas  33 non-null     float64\n",
      "dtypes: float64(5), object(1)\n",
      "memory usage: 1.7+ KB\n"
     ]
    }
   ],
   "source": [
    "leitura.info(5)"
   ]
  },
  {
   "cell_type": "code",
   "execution_count": 5,
   "metadata": {},
   "outputs": [
    {
     "data": {
      "text/html": [
       "<div>\n",
       "<style scoped>\n",
       "    .dataframe tbody tr th:only-of-type {\n",
       "        vertical-align: middle;\n",
       "    }\n",
       "\n",
       "    .dataframe tbody tr th {\n",
       "        vertical-align: top;\n",
       "    }\n",
       "\n",
       "    .dataframe thead th {\n",
       "        text-align: right;\n",
       "    }\n",
       "</style>\n",
       "<table border=\"1\" class=\"dataframe\">\n",
       "  <thead>\n",
       "    <tr style=\"text-align: right;\">\n",
       "      <th></th>\n",
       "      <th>Regiões e Estados do Brasil</th>\n",
       "      <th>Percentual de casos totais</th>\n",
       "      <th>Percentual de casos por sexo masculino</th>\n",
       "      <th>Percentual de casos por sexo feminino</th>\n",
       "      <th>Percentual de casos em escolas públicas</th>\n",
       "      <th>Percentual de casos em escolas privadas</th>\n",
       "    </tr>\n",
       "  </thead>\n",
       "  <tbody>\n",
       "    <tr>\n",
       "      <th>29</th>\n",
       "      <td>Mato Grosso do Sul</td>\n",
       "      <td>18.76</td>\n",
       "      <td>11.79</td>\n",
       "      <td>25.49000</td>\n",
       "      <td>18.86</td>\n",
       "      <td>17.85</td>\n",
       "    </tr>\n",
       "    <tr>\n",
       "      <th>13</th>\n",
       "      <td>Rio Grande do Norte</td>\n",
       "      <td>16.95</td>\n",
       "      <td>11.29</td>\n",
       "      <td>21.87000</td>\n",
       "      <td>16.48</td>\n",
       "      <td>18.98</td>\n",
       "    </tr>\n",
       "    <tr>\n",
       "      <th>14</th>\n",
       "      <td>Paraíba</td>\n",
       "      <td>15.26</td>\n",
       "      <td>8.98</td>\n",
       "      <td>20.44000</td>\n",
       "      <td>14.56</td>\n",
       "      <td>18.46</td>\n",
       "    </tr>\n",
       "    <tr>\n",
       "      <th>9</th>\n",
       "      <td>Nordeste</td>\n",
       "      <td>14.73</td>\n",
       "      <td>9.32</td>\n",
       "      <td>19.38000</td>\n",
       "      <td>14.15</td>\n",
       "      <td>17.96</td>\n",
       "    </tr>\n",
       "    <tr>\n",
       "      <th>23</th>\n",
       "      <td>São Paulo</td>\n",
       "      <td>17.53</td>\n",
       "      <td>11.28</td>\n",
       "      <td>23.98000</td>\n",
       "      <td>17.85</td>\n",
       "      <td>15.89</td>\n",
       "    </tr>\n",
       "    <tr>\n",
       "      <th>27</th>\n",
       "      <td>Rio Grande do Sul</td>\n",
       "      <td>21.25</td>\n",
       "      <td>12.32</td>\n",
       "      <td>30.06000</td>\n",
       "      <td>21.36</td>\n",
       "      <td>19.45</td>\n",
       "    </tr>\n",
       "    <tr>\n",
       "      <th>2</th>\n",
       "      <td>Rondônia</td>\n",
       "      <td>16.12</td>\n",
       "      <td>10.13</td>\n",
       "      <td>21.72000</td>\n",
       "      <td>15.95</td>\n",
       "      <td>18.41</td>\n",
       "    </tr>\n",
       "    <tr>\n",
       "      <th>11</th>\n",
       "      <td>Piauí</td>\n",
       "      <td>11.06</td>\n",
       "      <td>7.18</td>\n",
       "      <td>14.47000</td>\n",
       "      <td>10.06</td>\n",
       "      <td>18.06</td>\n",
       "    </tr>\n",
       "    <tr>\n",
       "      <th>0</th>\n",
       "      <td>Brasil</td>\n",
       "      <td>16.38</td>\n",
       "      <td>10.15</td>\n",
       "      <td>22.27000</td>\n",
       "      <td>16.21</td>\n",
       "      <td>17.42</td>\n",
       "    </tr>\n",
       "    <tr>\n",
       "      <th>32</th>\n",
       "      <td>Distrito Federal</td>\n",
       "      <td>19.13</td>\n",
       "      <td>11.27</td>\n",
       "      <td>26.13000</td>\n",
       "      <td>18.49</td>\n",
       "      <td>21.06</td>\n",
       "    </tr>\n",
       "    <tr>\n",
       "      <th>24</th>\n",
       "      <td>Sul</td>\n",
       "      <td>18.16</td>\n",
       "      <td>11.01</td>\n",
       "      <td>25.20000</td>\n",
       "      <td>18.20</td>\n",
       "      <td>17.81</td>\n",
       "    </tr>\n",
       "    <tr>\n",
       "      <th>5</th>\n",
       "      <td>Roraima</td>\n",
       "      <td>17.52</td>\n",
       "      <td>11.24</td>\n",
       "      <td>23.95000</td>\n",
       "      <td>17.71</td>\n",
       "      <td>14.48</td>\n",
       "    </tr>\n",
       "    <tr>\n",
       "      <th>6</th>\n",
       "      <td>Pará</td>\n",
       "      <td>15.28</td>\n",
       "      <td>10.48</td>\n",
       "      <td>19.56000</td>\n",
       "      <td>14.84</td>\n",
       "      <td>19.03</td>\n",
       "    </tr>\n",
       "    <tr>\n",
       "      <th>30</th>\n",
       "      <td>Mato Grosso</td>\n",
       "      <td>16.57</td>\n",
       "      <td>9.10</td>\n",
       "      <td>24.20000</td>\n",
       "      <td>16.85</td>\n",
       "      <td>13.58</td>\n",
       "    </tr>\n",
       "    <tr>\n",
       "      <th>17</th>\n",
       "      <td>Sergipe</td>\n",
       "      <td>15.82</td>\n",
       "      <td>10.20</td>\n",
       "      <td>20.24000</td>\n",
       "      <td>15.35</td>\n",
       "      <td>17.54</td>\n",
       "    </tr>\n",
       "    <tr>\n",
       "      <th>25</th>\n",
       "      <td>Paraná</td>\n",
       "      <td>18.10</td>\n",
       "      <td>11.61</td>\n",
       "      <td>24.97404</td>\n",
       "      <td>18.07</td>\n",
       "      <td>18.33</td>\n",
       "    </tr>\n",
       "    <tr>\n",
       "      <th>3</th>\n",
       "      <td>Acre</td>\n",
       "      <td>16.55</td>\n",
       "      <td>9.61</td>\n",
       "      <td>23.47000</td>\n",
       "      <td>16.44</td>\n",
       "      <td>18.13</td>\n",
       "    </tr>\n",
       "    <tr>\n",
       "      <th>16</th>\n",
       "      <td>Alagoas</td>\n",
       "      <td>15.42</td>\n",
       "      <td>8.81</td>\n",
       "      <td>21.24000</td>\n",
       "      <td>15.37</td>\n",
       "      <td>15.62</td>\n",
       "    </tr>\n",
       "    <tr>\n",
       "      <th>10</th>\n",
       "      <td>Maranhão</td>\n",
       "      <td>11.95</td>\n",
       "      <td>6.16</td>\n",
       "      <td>16.82000</td>\n",
       "      <td>11.65</td>\n",
       "      <td>15.06</td>\n",
       "    </tr>\n",
       "    <tr>\n",
       "      <th>8</th>\n",
       "      <td>Tocantins</td>\n",
       "      <td>15.90</td>\n",
       "      <td>7.53</td>\n",
       "      <td>24.04000</td>\n",
       "      <td>15.79</td>\n",
       "      <td>17.35</td>\n",
       "    </tr>\n",
       "    <tr>\n",
       "      <th>15</th>\n",
       "      <td>Pernambuco</td>\n",
       "      <td>16.40</td>\n",
       "      <td>10.97</td>\n",
       "      <td>21.56000</td>\n",
       "      <td>15.85</td>\n",
       "      <td>18.81</td>\n",
       "    </tr>\n",
       "    <tr>\n",
       "      <th>31</th>\n",
       "      <td>Goiás</td>\n",
       "      <td>18.83</td>\n",
       "      <td>9.89</td>\n",
       "      <td>27.82000</td>\n",
       "      <td>18.60</td>\n",
       "      <td>20.06</td>\n",
       "    </tr>\n",
       "    <tr>\n",
       "      <th>26</th>\n",
       "      <td>Santa Catarina</td>\n",
       "      <td>14.58</td>\n",
       "      <td>8.20</td>\n",
       "      <td>20.09000</td>\n",
       "      <td>14.42</td>\n",
       "      <td>15.81</td>\n",
       "    </tr>\n",
       "    <tr>\n",
       "      <th>22</th>\n",
       "      <td>Rio de Janeiro</td>\n",
       "      <td>17.26</td>\n",
       "      <td>9.28</td>\n",
       "      <td>24.49000</td>\n",
       "      <td>16.31</td>\n",
       "      <td>19.69</td>\n",
       "    </tr>\n",
       "    <tr>\n",
       "      <th>20</th>\n",
       "      <td>Minas Gerais</td>\n",
       "      <td>14.54</td>\n",
       "      <td>8.95</td>\n",
       "      <td>19.97000</td>\n",
       "      <td>14.71</td>\n",
       "      <td>12.99</td>\n",
       "    </tr>\n",
       "    <tr>\n",
       "      <th>7</th>\n",
       "      <td>Amapá</td>\n",
       "      <td>17.62</td>\n",
       "      <td>10.36</td>\n",
       "      <td>24.57000</td>\n",
       "      <td>17.19</td>\n",
       "      <td>21.74</td>\n",
       "    </tr>\n",
       "    <tr>\n",
       "      <th>4</th>\n",
       "      <td>Amazonas</td>\n",
       "      <td>17.26</td>\n",
       "      <td>11.81</td>\n",
       "      <td>22.69000</td>\n",
       "      <td>17.26</td>\n",
       "      <td>17.33</td>\n",
       "    </tr>\n",
       "    <tr>\n",
       "      <th>12</th>\n",
       "      <td>Ceará</td>\n",
       "      <td>14.61</td>\n",
       "      <td>10.25</td>\n",
       "      <td>18.77000</td>\n",
       "      <td>13.94</td>\n",
       "      <td>18.48</td>\n",
       "    </tr>\n",
       "    <tr>\n",
       "      <th>21</th>\n",
       "      <td>Espírito Santo</td>\n",
       "      <td>16.66</td>\n",
       "      <td>10.54</td>\n",
       "      <td>22.38000</td>\n",
       "      <td>16.54</td>\n",
       "      <td>17.41</td>\n",
       "    </tr>\n",
       "    <tr>\n",
       "      <th>1</th>\n",
       "      <td>Norte</td>\n",
       "      <td>16.14</td>\n",
       "      <td>10.48</td>\n",
       "      <td>21.46000</td>\n",
       "      <td>15.91</td>\n",
       "      <td>18.53</td>\n",
       "    </tr>\n",
       "    <tr>\n",
       "      <th>28</th>\n",
       "      <td>Centro-Oeste</td>\n",
       "      <td>18.37</td>\n",
       "      <td>10.27</td>\n",
       "      <td>26.29000</td>\n",
       "      <td>18.19</td>\n",
       "      <td>19.35</td>\n",
       "    </tr>\n",
       "    <tr>\n",
       "      <th>19</th>\n",
       "      <td>Sudeste</td>\n",
       "      <td>16.67</td>\n",
       "      <td>10.32</td>\n",
       "      <td>22.95000</td>\n",
       "      <td>16.68</td>\n",
       "      <td>16.60</td>\n",
       "    </tr>\n",
       "    <tr>\n",
       "      <th>18</th>\n",
       "      <td>Bahia</td>\n",
       "      <td>15.22</td>\n",
       "      <td>9.44</td>\n",
       "      <td>19.62000</td>\n",
       "      <td>14.72</td>\n",
       "      <td>18.25</td>\n",
       "    </tr>\n",
       "  </tbody>\n",
       "</table>\n",
       "</div>"
      ],
      "text/plain": [
       "   Regiões e Estados do Brasil  Percentual de casos totais  \\\n",
       "29          Mato Grosso do Sul                       18.76   \n",
       "13         Rio Grande do Norte                       16.95   \n",
       "14                     Paraíba                       15.26   \n",
       "9                     Nordeste                       14.73   \n",
       "23                   São Paulo                       17.53   \n",
       "27           Rio Grande do Sul                       21.25   \n",
       "2                     Rondônia                       16.12   \n",
       "11                       Piauí                       11.06   \n",
       "0                       Brasil                       16.38   \n",
       "32            Distrito Federal                       19.13   \n",
       "24                         Sul                       18.16   \n",
       "5                      Roraima                       17.52   \n",
       "6                         Pará                       15.28   \n",
       "30                 Mato Grosso                       16.57   \n",
       "17                     Sergipe                       15.82   \n",
       "25                      Paraná                       18.10   \n",
       "3                         Acre                       16.55   \n",
       "16                     Alagoas                       15.42   \n",
       "10                    Maranhão                       11.95   \n",
       "8                    Tocantins                       15.90   \n",
       "15                  Pernambuco                       16.40   \n",
       "31                       Goiás                       18.83   \n",
       "26              Santa Catarina                       14.58   \n",
       "22              Rio de Janeiro                       17.26   \n",
       "20                Minas Gerais                       14.54   \n",
       "7                        Amapá                       17.62   \n",
       "4                     Amazonas                       17.26   \n",
       "12                       Ceará                       14.61   \n",
       "21              Espírito Santo                       16.66   \n",
       "1                        Norte                       16.14   \n",
       "28                Centro-Oeste                       18.37   \n",
       "19                     Sudeste                       16.67   \n",
       "18                       Bahia                       15.22   \n",
       "\n",
       "    Percentual de casos por sexo masculino  \\\n",
       "29                                   11.79   \n",
       "13                                   11.29   \n",
       "14                                    8.98   \n",
       "9                                     9.32   \n",
       "23                                   11.28   \n",
       "27                                   12.32   \n",
       "2                                    10.13   \n",
       "11                                    7.18   \n",
       "0                                    10.15   \n",
       "32                                   11.27   \n",
       "24                                   11.01   \n",
       "5                                    11.24   \n",
       "6                                    10.48   \n",
       "30                                    9.10   \n",
       "17                                   10.20   \n",
       "25                                   11.61   \n",
       "3                                     9.61   \n",
       "16                                    8.81   \n",
       "10                                    6.16   \n",
       "8                                     7.53   \n",
       "15                                   10.97   \n",
       "31                                    9.89   \n",
       "26                                    8.20   \n",
       "22                                    9.28   \n",
       "20                                    8.95   \n",
       "7                                    10.36   \n",
       "4                                    11.81   \n",
       "12                                   10.25   \n",
       "21                                   10.54   \n",
       "1                                    10.48   \n",
       "28                                   10.27   \n",
       "19                                   10.32   \n",
       "18                                    9.44   \n",
       "\n",
       "    Percentual de casos por sexo feminino  \\\n",
       "29                               25.49000   \n",
       "13                               21.87000   \n",
       "14                               20.44000   \n",
       "9                                19.38000   \n",
       "23                               23.98000   \n",
       "27                               30.06000   \n",
       "2                                21.72000   \n",
       "11                               14.47000   \n",
       "0                                22.27000   \n",
       "32                               26.13000   \n",
       "24                               25.20000   \n",
       "5                                23.95000   \n",
       "6                                19.56000   \n",
       "30                               24.20000   \n",
       "17                               20.24000   \n",
       "25                               24.97404   \n",
       "3                                23.47000   \n",
       "16                               21.24000   \n",
       "10                               16.82000   \n",
       "8                                24.04000   \n",
       "15                               21.56000   \n",
       "31                               27.82000   \n",
       "26                               20.09000   \n",
       "22                               24.49000   \n",
       "20                               19.97000   \n",
       "7                                24.57000   \n",
       "4                                22.69000   \n",
       "12                               18.77000   \n",
       "21                               22.38000   \n",
       "1                                21.46000   \n",
       "28                               26.29000   \n",
       "19                               22.95000   \n",
       "18                               19.62000   \n",
       "\n",
       "    Percentual de casos em escolas públicas  \\\n",
       "29                                    18.86   \n",
       "13                                    16.48   \n",
       "14                                    14.56   \n",
       "9                                     14.15   \n",
       "23                                    17.85   \n",
       "27                                    21.36   \n",
       "2                                     15.95   \n",
       "11                                    10.06   \n",
       "0                                     16.21   \n",
       "32                                    18.49   \n",
       "24                                    18.20   \n",
       "5                                     17.71   \n",
       "6                                     14.84   \n",
       "30                                    16.85   \n",
       "17                                    15.35   \n",
       "25                                    18.07   \n",
       "3                                     16.44   \n",
       "16                                    15.37   \n",
       "10                                    11.65   \n",
       "8                                     15.79   \n",
       "15                                    15.85   \n",
       "31                                    18.60   \n",
       "26                                    14.42   \n",
       "22                                    16.31   \n",
       "20                                    14.71   \n",
       "7                                     17.19   \n",
       "4                                     17.26   \n",
       "12                                    13.94   \n",
       "21                                    16.54   \n",
       "1                                     15.91   \n",
       "28                                    18.19   \n",
       "19                                    16.68   \n",
       "18                                    14.72   \n",
       "\n",
       "    Percentual de casos em escolas privadas  \n",
       "29                                    17.85  \n",
       "13                                    18.98  \n",
       "14                                    18.46  \n",
       "9                                     17.96  \n",
       "23                                    15.89  \n",
       "27                                    19.45  \n",
       "2                                     18.41  \n",
       "11                                    18.06  \n",
       "0                                     17.42  \n",
       "32                                    21.06  \n",
       "24                                    17.81  \n",
       "5                                     14.48  \n",
       "6                                     19.03  \n",
       "30                                    13.58  \n",
       "17                                    17.54  \n",
       "25                                    18.33  \n",
       "3                                     18.13  \n",
       "16                                    15.62  \n",
       "10                                    15.06  \n",
       "8                                     17.35  \n",
       "15                                    18.81  \n",
       "31                                    20.06  \n",
       "26                                    15.81  \n",
       "22                                    19.69  \n",
       "20                                    12.99  \n",
       "7                                     21.74  \n",
       "4                                     17.33  \n",
       "12                                    18.48  \n",
       "21                                    17.41  \n",
       "1                                     18.53  \n",
       "28                                    19.35  \n",
       "19                                    16.60  \n",
       "18                                    18.25  "
      ]
     },
     "execution_count": 5,
     "metadata": {},
     "output_type": "execute_result"
    }
   ],
   "source": [
    "leitura.sample(33)"
   ]
  },
  {
   "cell_type": "markdown",
   "metadata": {},
   "source": [
    "### Agora que já fizemos uma análise geral, vamos nos aprofundar nos dados!\n",
    "\n",
    "### Análise dos maiores percentuais de casos por ordem decrecente:"
   ]
  },
  {
   "cell_type": "code",
   "execution_count": 6,
   "metadata": {},
   "outputs": [
    {
     "data": {
      "text/plain": [
       "Regiões e Estados do Brasil\n",
       "Rio Grande do Sul      21.25\n",
       "Distrito Federal       19.13\n",
       "Goiás                  18.83\n",
       "Mato Grosso do Sul     18.76\n",
       "Centro-Oeste           18.37\n",
       "Sul                    18.16\n",
       "Paraná                 18.10\n",
       "Amapá                  17.62\n",
       "São Paulo              17.53\n",
       "Roraima                17.52\n",
       "Amazonas               17.26\n",
       "Rio de Janeiro         17.26\n",
       "Rio Grande do Norte    16.95\n",
       "Sudeste                16.67\n",
       "Espírito Santo         16.66\n",
       "Mato Grosso            16.57\n",
       "Acre                   16.55\n",
       "Pernambuco             16.40\n",
       "Brasil                 16.38\n",
       "Norte                  16.14\n",
       "Rondônia               16.12\n",
       "Tocantins              15.90\n",
       "Sergipe                15.82\n",
       "Alagoas                15.42\n",
       "Pará                   15.28\n",
       "Paraíba                15.26\n",
       "Bahia                  15.22\n",
       "Nordeste               14.73\n",
       "Ceará                  14.61\n",
       "Santa Catarina         14.58\n",
       "Minas Gerais           14.54\n",
       "Maranhão               11.95\n",
       "Piauí                  11.06\n",
       "Name: Percentual de casos totais, dtype: float64"
      ]
     },
     "execution_count": 6,
     "metadata": {},
     "output_type": "execute_result"
    }
   ],
   "source": [
    "leitura.groupby('Regiões e Estados do Brasil') ['Percentual de casos totais'].max().sort_values (ascending=False)"
   ]
  },
  {
   "cell_type": "markdown",
   "metadata": {},
   "source": [
    "### Agora vamos ver um gráfico sobre 5 maiores percentuais contidos nsses dados:"
   ]
  },
  {
   "cell_type": "code",
   "execution_count": 7,
   "metadata": {},
   "outputs": [
    {
     "data": {
      "text/plain": [
       "<matplotlib.axes._subplots.AxesSubplot at 0x1db593a00f0>"
      ]
     },
     "execution_count": 7,
     "metadata": {},
     "output_type": "execute_result"
    },
    {
     "data": {
      "image/png": "[encoded data removed]",
      "text/plain": [
       "<Figure size 432x288 with 1 Axes>"
      ]
     },
     "metadata": {
      "needs_background": "light"
     },
     "output_type": "display_data"
    }
   ],
   "source": [
    "leitura.groupby('Regiões e Estados do Brasil') ['Percentual de casos totais'].max().sort_values().tail(5).plot(kind='barh')"
   ]
  },
  {
   "cell_type": "markdown",
   "metadata": {},
   "source": [
    "### E que tal agora analisarmos sobre os percentuais do sexo masculino? E que tal gerar um gráfico?"
   ]
  },
  {
   "cell_type": "code",
   "execution_count": 8,
   "metadata": {},
   "outputs": [
    {
     "data": {
      "text/plain": [
       "Regiões e Estados do Brasil\n",
       "Rio Grande do Sul      12.32\n",
       "Amazonas               11.81\n",
       "Mato Grosso do Sul     11.79\n",
       "Paraná                 11.61\n",
       "Rio Grande do Norte    11.29\n",
       "São Paulo              11.28\n",
       "Distrito Federal       11.27\n",
       "Roraima                11.24\n",
       "Sul                    11.01\n",
       "Pernambuco             10.97\n",
       "Espírito Santo         10.54\n",
       "Pará                   10.48\n",
       "Norte                  10.48\n",
       "Amapá                  10.36\n",
       "Sudeste                10.32\n",
       "Centro-Oeste           10.27\n",
       "Ceará                  10.25\n",
       "Sergipe                10.20\n",
       "Brasil                 10.15\n",
       "Rondônia               10.13\n",
       "Goiás                   9.89\n",
       "Acre                    9.61\n",
       "Bahia                   9.44\n",
       "Nordeste                9.32\n",
       "Rio de Janeiro          9.28\n",
       "Mato Grosso             9.10\n",
       "Paraíba                 8.98\n",
       "Minas Gerais            8.95\n",
       "Alagoas                 8.81\n",
       "Santa Catarina          8.20\n",
       "Tocantins               7.53\n",
       "Piauí                   7.18\n",
       "Maranhão                6.16\n",
       "Name: Percentual de casos por sexo masculino, dtype: float64"
      ]
     },
     "execution_count": 8,
     "metadata": {},
     "output_type": "execute_result"
    }
   ],
   "source": [
    "leitura.groupby('Regiões e Estados do Brasil') ['Percentual de casos por sexo masculino'].max().sort_values (ascending=False)"
   ]
  },
  {
   "cell_type": "code",
   "execution_count": 9,
   "metadata": {},
   "outputs": [
    {
     "data": {
      "text/plain": [
       "<matplotlib.axes._subplots.AxesSubplot at 0x1db5b46f4e0>"
      ]
     },
     "execution_count": 9,
     "metadata": {},
     "output_type": "execute_result"
    },
    {
     "data": {
      "image/png": "[encoded data removed]",
      "text/plain": [
       "<Figure size 432x288 with 1 Axes>"
      ]
     },
     "metadata": {
      "needs_background": "light"
     },
     "output_type": "display_data"
    }
   ],
   "source": [
    "leitura.groupby('Regiões e Estados do Brasil') ['Percentual de casos por sexo masculino'].max().sort_values().tail(5).plot(kind='barh')"
   ]
  },
  {
   "cell_type": "markdown",
   "metadata": {},
   "source": [
    "### Agora vamos analisar o percentual feminino para compararmos."
   ]
  },
  {
   "cell_type": "code",
   "execution_count": 10,
   "metadata": {},
   "outputs": [
    {
     "data": {
      "text/plain": [
       "Regiões e Estados do Brasil\n",
       "Rio Grande do Sul      30.06000\n",
       "Goiás                  27.82000\n",
       "Centro-Oeste           26.29000\n",
       "Distrito Federal       26.13000\n",
       "Mato Grosso do Sul     25.49000\n",
       "Sul                    25.20000\n",
       "Paraná                 24.97404\n",
       "Amapá                  24.57000\n",
       "Rio de Janeiro         24.49000\n",
       "Mato Grosso            24.20000\n",
       "Tocantins              24.04000\n",
       "São Paulo              23.98000\n",
       "Roraima                23.95000\n",
       "Acre                   23.47000\n",
       "Sudeste                22.95000\n",
       "Amazonas               22.69000\n",
       "Espírito Santo         22.38000\n",
       "Brasil                 22.27000\n",
       "Rio Grande do Norte    21.87000\n",
       "Rondônia               21.72000\n",
       "Pernambuco             21.56000\n",
       "Norte                  21.46000\n",
       "Alagoas                21.24000\n",
       "Paraíba                20.44000\n",
       "Sergipe                20.24000\n",
       "Santa Catarina         20.09000\n",
       "Minas Gerais           19.97000\n",
       "Bahia                  19.62000\n",
       "Pará                   19.56000\n",
       "Nordeste               19.38000\n",
       "Ceará                  18.77000\n",
       "Maranhão               16.82000\n",
       "Piauí                  14.47000\n",
       "Name: Percentual de casos por sexo feminino, dtype: float64"
      ]
     },
     "execution_count": 10,
     "metadata": {},
     "output_type": "execute_result"
    }
   ],
   "source": [
    "leitura.groupby('Regiões e Estados do Brasil') ['Percentual de casos por sexo feminino'].max().sort_values (ascending=False)"
   ]
  },
  {
   "cell_type": "code",
   "execution_count": 11,
   "metadata": {},
   "outputs": [
    {
     "data": {
      "text/plain": [
       "<matplotlib.axes._subplots.AxesSubplot at 0x1db5b4ede80>"
      ]
     },
     "execution_count": 11,
     "metadata": {},
     "output_type": "execute_result"
    },
    {
     "data": {
      "image/png": "[encoded data removed]",
      "text/plain": [
       "<Figure size 432x288 with 1 Axes>"
      ]
     },
     "metadata": {
      "needs_background": "light"
     },
     "output_type": "display_data"
    }
   ],
   "source": [
    "leitura.groupby('Regiões e Estados do Brasil') ['Percentual de casos por sexo feminino'].max().sort_values().tail(5).plot(kind='barh')"
   ]
  },
  {
   "cell_type": "markdown",
   "metadata": {},
   "source": [
    "### Com essa pequena análise, já podemos comparar que os casos no sexo femininos são maiores que o dobro de casos no sexo masculino, e que o maior percentual é no Estado do Rio Grande do Sul.\n",
    "\n",
    "## Vamos verificar os percentuais das escolas Públicas e Privadas agora."
   ]
  },
  {
   "cell_type": "code",
   "execution_count": 12,
   "metadata": {},
   "outputs": [
    {
     "data": {
      "text/plain": [
       "<matplotlib.axes._subplots.AxesSubplot at 0x1db5b5527b8>"
      ]
     },
     "execution_count": 12,
     "metadata": {},
     "output_type": "execute_result"
    },
    {
     "data": {
      "image/png": "[encoded data removed]",
      "text/plain": [
       "<Figure size 432x288 with 1 Axes>"
      ]
     },
     "metadata": {
      "needs_background": "light"
     },
     "output_type": "display_data"
    }
   ],
   "source": [
    "leitura.groupby('Regiões e Estados do Brasil') ['Percentual de casos em escolas públicas'].max().sort_values().tail(5).plot(kind='barh')"
   ]
  },
  {
   "cell_type": "code",
   "execution_count": 13,
   "metadata": {},
   "outputs": [
    {
     "data": {
      "text/plain": [
       "<matplotlib.axes._subplots.AxesSubplot at 0x1db5b5bfef0>"
      ]
     },
     "execution_count": 13,
     "metadata": {},
     "output_type": "execute_result"
    },
    {
     "data": {
      "image/png": "[encoded data removed]",
      "text/plain": [
       "<Figure size 432x288 with 1 Axes>"
      ]
     },
     "metadata": {
      "needs_background": "light"
     },
     "output_type": "display_data"
    }
   ],
   "source": [
    "leitura.groupby('Regiões e Estados do Brasil') ['Percentual de casos em escolas privadas'].max().sort_values().tail(5).plot(kind='barh')"
   ]
  },
  {
   "cell_type": "markdown",
   "metadata": {},
   "source": [
    "### Podemos perceber agora que o cenário mudou um pouco, pois o maior percentual de casos em escolas privadas é no Amapá. Mesmo assim o Rio Grande do Sul continua entre os 5 maiores.\n"
   ]
  },
  {
   "cell_type": "markdown",
   "metadata": {},
   "source": [
    "# Assim podemos concluir que: Os casos no sexo femininos são maiores que o dobro de casos no sexo masculino, O maior percentual de casos é no Estado do Rio Grande do Sul e que o percentual de casos é quase igual entre Escolas Públicas e Privadas, mas nas escolas públicas o maior percentual pertence ao Rio Grande do Sul, e nas escolas privadas o maior percentual permanece ao Amapá."
   ]
  },
  {
   "cell_type": "code",
   "execution_count": null,
   "metadata": {},
   "outputs": [],
   "source": []
  }
 ],
 "metadata": {
  "kernelspec": {
   "display_name": "Python 3",
   "language": "python",
   "name": "python3"
  },
  "language_info": {
   "codemirror_mode": {
    "name": "ipython",
    "version": 3
   },
   "file_extension": ".py",
   "mimetype": "text/x-python",
   "name": "python",
   "nbconvert_exporter": "python",
   "pygments_lexer": "ipython3",
   "version": "3.7.3"
  }
 },
 "nbformat": 4,
 "nbformat_minor": 4
}
