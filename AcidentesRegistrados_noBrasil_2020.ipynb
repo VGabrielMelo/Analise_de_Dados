{
 "cells": [
  {
   "cell_type": "markdown",
   "metadata": {},
   "source": [
    "# *Acidentes registrados no Brasil em 2020*\n",
    "\n",
    "\n",
    "## Trabalho realizado por: Victor Melo #\n",
    "\n",
    "### Os dados desse Dataset cobre o período de 2020 (Janeiro a Setembro) e foi extraído diretamente do site da Polícia Rodoviária Federal ##\n",
    "\n",
    "### *Os dados estão disponíveis em:*\n",
    "### *https://www.gov.br/prf/pt-br/acesso-a-informacao/dados-abertos/dados-abertos-acidentes* ###\n"
   ]
  },
  {
   "cell_type": "markdown",
   "metadata": {},
   "source": [
    "## Primeiro é preciso realizar a instalação do python (independente da versão) e habilitar ele ao Path de seu computador ##\n",
    " ## Coloquei uma imagem abaixo para facilitar ##\n",
    "![Habilitar o Path](https://dicasdepython.com.br/images/como-instalar-python-no-windows-10/instalador-python-01-selecao-do-tipo-de-instalacao.png)"
   ]
  },
  {
   "cell_type": "markdown",
   "metadata": {},
   "source": [
    "-------------------------------------------------------------------------------------------------------------------------------\n",
    "## Agora, vamos realizar algumas importações dos módulos necessários para a análise. ##\n",
    "\n",
    "### Vale lembrar que se houver algum problema com as importações, você não deve esquecer de habilitar seu Python com o Path, abrir seu CMD e digitar \"Pip install  _nome_do_módulo_\". Após você fizer todas as instalações necessárias, já podemos começar as análises ###"
   ]
  },
  {
   "cell_type": "code",
   "execution_count": 92,
   "metadata": {},
   "outputs": [],
   "source": [
    "import pandas as pd\n",
    "import seaborn as sns\n",
    "import numpy as np\n",
    "import matplotlib.pyplot as plt\n",
    "%matplotlib inline"
   ]
  },
  {
   "cell_type": "markdown",
   "metadata": {},
   "source": [
    "### Aqui vamos usar 4 módulos: Pandas, Seaborn, Numpy e o Matplotlib. É legal falar que estamos dando _\"Apelidos\"_ a eles para realizar a chamada de forma mais fácil. ###\n",
    "\n",
    "\n",
    "## Após as importações, vamos ler nosso arquivo, atribuir a uma variável chamada \"df\" e já verificar algumas informações Básicas ##"
   ]
  },
  {
   "cell_type": "code",
   "execution_count": 3,
   "metadata": {},
   "outputs": [],
   "source": [
    "arq = r'C:\\Users\\Pichau\\Documents\\DMCard\\trabalho_dm\\acidentes2020_todas_causas_tipos.csv'\n",
    "df = pd.read_csv(arq, delimiter=';', encoding = 'iso-8859-1')"
   ]
  },
  {
   "cell_type": "markdown",
   "metadata": {},
   "source": [
    "### Vamos realizar uma leitura de nosso dataset de forma geral para conseguirmos ter idéias para analisármos de uma melhor forma. ###"
   ]
  },
  {
   "cell_type": "code",
   "execution_count": 6,
   "metadata": {},
   "outputs": [
    {
     "data": {
      "text/html": [
       "<div>\n",
       "<style scoped>\n",
       "    .dataframe tbody tr th:only-of-type {\n",
       "        vertical-align: middle;\n",
       "    }\n",
       "\n",
       "    .dataframe tbody tr th {\n",
       "        vertical-align: top;\n",
       "    }\n",
       "\n",
       "    .dataframe thead th {\n",
       "        text-align: right;\n",
       "    }\n",
       "</style>\n",
       "<table border=\"1\" class=\"dataframe\">\n",
       "  <thead>\n",
       "    <tr style=\"text-align: right;\">\n",
       "      <th></th>\n",
       "      <th>id</th>\n",
       "      <th>pesid</th>\n",
       "      <th>data_inversa</th>\n",
       "      <th>dia_semana</th>\n",
       "      <th>horario</th>\n",
       "      <th>uf</th>\n",
       "      <th>br</th>\n",
       "      <th>km</th>\n",
       "      <th>municipio</th>\n",
       "      <th>causa_principal</th>\n",
       "      <th>...</th>\n",
       "      <th>sexo</th>\n",
       "      <th>ilesos</th>\n",
       "      <th>feridos_leves</th>\n",
       "      <th>feridos_graves</th>\n",
       "      <th>mortos</th>\n",
       "      <th>latitude</th>\n",
       "      <th>longitude</th>\n",
       "      <th>regional</th>\n",
       "      <th>delegacia</th>\n",
       "      <th>uop</th>\n",
       "    </tr>\n",
       "  </thead>\n",
       "  <tbody>\n",
       "    <tr>\n",
       "      <th>262756</th>\n",
       "      <td>309335.0</td>\n",
       "      <td>687526.0</td>\n",
       "      <td>2020-08-30</td>\n",
       "      <td>domingo</td>\n",
       "      <td>18:15:00</td>\n",
       "      <td>RR</td>\n",
       "      <td>432.0</td>\n",
       "      <td>185</td>\n",
       "      <td>CANTA</td>\n",
       "      <td>Sim</td>\n",
       "      <td>...</td>\n",
       "      <td>Masculino</td>\n",
       "      <td>1</td>\n",
       "      <td>0</td>\n",
       "      <td>0</td>\n",
       "      <td>0</td>\n",
       "      <td>2,58216813</td>\n",
       "      <td>-60,63977179</td>\n",
       "      <td>SR-RR</td>\n",
       "      <td>UOP01</td>\n",
       "      <td>DEL01</td>\n",
       "    </tr>\n",
       "    <tr>\n",
       "      <th>127705</th>\n",
       "      <td>284870.0</td>\n",
       "      <td>634608.0</td>\n",
       "      <td>2020-05-17</td>\n",
       "      <td>domingo</td>\n",
       "      <td>02:00:00</td>\n",
       "      <td>GO</td>\n",
       "      <td>50.0</td>\n",
       "      <td>260,2</td>\n",
       "      <td>CATALAO</td>\n",
       "      <td>Não</td>\n",
       "      <td>...</td>\n",
       "      <td>Não Informado</td>\n",
       "      <td>0</td>\n",
       "      <td>0</td>\n",
       "      <td>0</td>\n",
       "      <td>0</td>\n",
       "      <td>-18,0366</td>\n",
       "      <td>-47,8438</td>\n",
       "      <td>SR-GO</td>\n",
       "      <td>UOP01</td>\n",
       "      <td>DEL06</td>\n",
       "    </tr>\n",
       "    <tr>\n",
       "      <th>196029</th>\n",
       "      <td>297933.0</td>\n",
       "      <td>662202.0</td>\n",
       "      <td>2020-07-27</td>\n",
       "      <td>segunda-feira</td>\n",
       "      <td>20:50:00</td>\n",
       "      <td>ES</td>\n",
       "      <td>101.0</td>\n",
       "      <td>131,5</td>\n",
       "      <td>LINHARES</td>\n",
       "      <td>Sim</td>\n",
       "      <td>...</td>\n",
       "      <td>Feminino</td>\n",
       "      <td>0</td>\n",
       "      <td>1</td>\n",
       "      <td>0</td>\n",
       "      <td>0</td>\n",
       "      <td>-19,238965</td>\n",
       "      <td>-40,09170698</td>\n",
       "      <td>SR-ES</td>\n",
       "      <td>UOP01</td>\n",
       "      <td>DEL04</td>\n",
       "    </tr>\n",
       "    <tr>\n",
       "      <th>240336</th>\n",
       "      <td>305604.0</td>\n",
       "      <td>681636.0</td>\n",
       "      <td>2020-09-04</td>\n",
       "      <td>sexta-feira</td>\n",
       "      <td>09:15:00</td>\n",
       "      <td>PR</td>\n",
       "      <td>277.0</td>\n",
       "      <td>551,5</td>\n",
       "      <td>CATANDUVAS</td>\n",
       "      <td>Sim</td>\n",
       "      <td>...</td>\n",
       "      <td>Masculino</td>\n",
       "      <td>0</td>\n",
       "      <td>0</td>\n",
       "      <td>1</td>\n",
       "      <td>0</td>\n",
       "      <td>-25,09009096</td>\n",
       "      <td>-53,13259746</td>\n",
       "      <td>SR-PR</td>\n",
       "      <td>UOP01</td>\n",
       "      <td>DEL04</td>\n",
       "    </tr>\n",
       "    <tr>\n",
       "      <th>85462</th>\n",
       "      <td>276699.0</td>\n",
       "      <td>617505.0</td>\n",
       "      <td>2020-03-21</td>\n",
       "      <td>sábado</td>\n",
       "      <td>10:10:00</td>\n",
       "      <td>BA</td>\n",
       "      <td>101.0</td>\n",
       "      <td>105</td>\n",
       "      <td>ALAGOINHAS</td>\n",
       "      <td>Sim</td>\n",
       "      <td>...</td>\n",
       "      <td>Masculino</td>\n",
       "      <td>1</td>\n",
       "      <td>0</td>\n",
       "      <td>0</td>\n",
       "      <td>0</td>\n",
       "      <td>-12,15963868</td>\n",
       "      <td>-38,41162324</td>\n",
       "      <td>SR-BA</td>\n",
       "      <td>UOP04</td>\n",
       "      <td>DEL01</td>\n",
       "    </tr>\n",
       "  </tbody>\n",
       "</table>\n",
       "<p>5 rows × 37 columns</p>\n",
       "</div>"
      ],
      "text/plain": [
       "              id     pesid data_inversa     dia_semana   horario  uf     br  \\\n",
       "262756  309335.0  687526.0   2020-08-30        domingo  18:15:00  RR  432.0   \n",
       "127705  284870.0  634608.0   2020-05-17        domingo  02:00:00  GO   50.0   \n",
       "196029  297933.0  662202.0   2020-07-27  segunda-feira  20:50:00  ES  101.0   \n",
       "240336  305604.0  681636.0   2020-09-04    sexta-feira  09:15:00  PR  277.0   \n",
       "85462   276699.0  617505.0   2020-03-21         sábado  10:10:00  BA  101.0   \n",
       "\n",
       "           km   municipio causa_principal  ...           sexo  ilesos  \\\n",
       "262756    185       CANTA             Sim  ...      Masculino       1   \n",
       "127705  260,2     CATALAO             Não  ...  Não Informado       0   \n",
       "196029  131,5    LINHARES             Sim  ...       Feminino       0   \n",
       "240336  551,5  CATANDUVAS             Sim  ...      Masculino       0   \n",
       "85462     105  ALAGOINHAS             Sim  ...      Masculino       1   \n",
       "\n",
       "       feridos_leves feridos_graves mortos      latitude     longitude  \\\n",
       "262756             0              0      0    2,58216813  -60,63977179   \n",
       "127705             0              0      0      -18,0366      -47,8438   \n",
       "196029             1              0      0    -19,238965  -40,09170698   \n",
       "240336             0              1      0  -25,09009096  -53,13259746   \n",
       "85462              0              0      0  -12,15963868  -38,41162324   \n",
       "\n",
       "       regional delegacia    uop  \n",
       "262756    SR-RR     UOP01  DEL01  \n",
       "127705    SR-GO     UOP01  DEL06  \n",
       "196029    SR-ES     UOP01  DEL04  \n",
       "240336    SR-PR     UOP01  DEL04  \n",
       "85462     SR-BA     UOP04  DEL01  \n",
       "\n",
       "[5 rows x 37 columns]"
      ]
     },
     "execution_count": 6,
     "metadata": {},
     "output_type": "execute_result"
    }
   ],
   "source": [
    "df.sample(5)"
   ]
  },
  {
   "cell_type": "code",
   "execution_count": 7,
   "metadata": {},
   "outputs": [
    {
     "name": "stdout",
     "output_type": "stream",
     "text": [
      "<class 'pandas.core.frame.DataFrame'>\n",
      "RangeIndex: 275275 entries, 0 to 275274\n",
      "Data columns (total 37 columns):\n",
      " #   Column                  Non-Null Count   Dtype  \n",
      "---  ------                  --------------   -----  \n",
      " 0   id                      275275 non-null  float64\n",
      " 1   pesid                   251396 non-null  float64\n",
      " 2   data_inversa            275275 non-null  object \n",
      " 3   dia_semana              275275 non-null  object \n",
      " 4   horario                 275275 non-null  object \n",
      " 5   uf                      275275 non-null  object \n",
      " 6   br                      274488 non-null  float64\n",
      " 7   km                      274488 non-null  object \n",
      " 8   municipio               275275 non-null  object \n",
      " 9   causa_principal         275275 non-null  object \n",
      " 10  causa_acidente          275275 non-null  object \n",
      " 11  ordem_tipo_acidente     275274 non-null  float64\n",
      " 12  tipo_acidente           275274 non-null  object \n",
      " 13  classificacao_acidente  275274 non-null  object \n",
      " 14  fase_dia                275275 non-null  object \n",
      " 15  sentido_via             275275 non-null  object \n",
      " 16  condicao_metereologica  275275 non-null  object \n",
      " 17  tipo_pista              275275 non-null  object \n",
      " 18  tracado_via             275275 non-null  object \n",
      " 19  uso_solo                275275 non-null  object \n",
      " 20  id_veiculo              275274 non-null  float64\n",
      " 21  tipo_veiculo            275275 non-null  object \n",
      " 22  marca                   261959 non-null  object \n",
      " 23  ano_fabricacao_veiculo  258931 non-null  float64\n",
      " 24  tipo_envolvido          275275 non-null  object \n",
      " 25  estado_fisico           275275 non-null  object \n",
      " 26  idade                   219401 non-null  float64\n",
      " 27  sexo                    275275 non-null  object \n",
      " 28  ilesos                  275275 non-null  int64  \n",
      " 29  feridos_leves           275275 non-null  int64  \n",
      " 30  feridos_graves          275275 non-null  int64  \n",
      " 31  mortos                  275275 non-null  int64  \n",
      " 32  latitude                275275 non-null  object \n",
      " 33  longitude               275275 non-null  object \n",
      " 34  regional                275275 non-null  object \n",
      " 35  delegacia               275275 non-null  object \n",
      " 36  uop                     272626 non-null  object \n",
      "dtypes: float64(7), int64(4), object(26)\n",
      "memory usage: 77.7+ MB\n"
     ]
    }
   ],
   "source": [
    "df.info()"
   ]
  },
  {
   "cell_type": "markdown",
   "metadata": {},
   "source": [
    "#### Maravilha! agora que entendemos um pouco mais de como está distribuído esses dados, conseguimos buscar por informações mais específicas. ###\n",
    "\n",
    "#### Por exmplo, vamos varificar quais foram os principais anos de fabricação dos automóveis envolvidos em acidentes em 2020. ###"
   ]
  },
  {
   "cell_type": "code",
   "execution_count": 136,
   "metadata": {
    "scrolled": true
   },
   "outputs": [
    {
     "data": {
      "text/plain": [
       "2019.0    19536\n",
       "2013.0    19259\n",
       "2011.0    19224\n",
       "2014.0    17865\n",
       "2018.0    16321\n",
       "2010.0    16023\n",
       "2012.0    15662\n",
       "2009.0    13187\n",
       "2008.0    12731\n",
       "2015.0    11784\n",
       "Name: ano_fabricacao_veiculo, dtype: int64"
      ]
     },
     "execution_count": 136,
     "metadata": {},
     "output_type": "execute_result"
    }
   ],
   "source": [
    "df['ano_fabricacao_veiculo'].value_counts().head(10)"
   ]
  },
  {
   "cell_type": "markdown",
   "metadata": {},
   "source": [
    "### Aqui analisamos que, Os carros antigos, taxados de serem menos seguros, não aparecem no top 10 de casos de acidentes em 2020. \n",
    "\n",
    "### Agora vamos dar uma olhada nas condições meteorológicas onde mais ocorreram acidentes. ###"
   ]
  },
  {
   "cell_type": "code",
   "execution_count": 8,
   "metadata": {},
   "outputs": [
    {
     "data": {
      "text/plain": [
       "Céu Claro           166853\n",
       "Nublado              40760\n",
       "Chuva                30728\n",
       "Sol                  21458\n",
       "Garoa/Chuvisco        9072\n",
       "Nevoeiro/Neblina      3212\n",
       "Ignorado              2849\n",
       "Vento                  337\n",
       "Neve                     4\n",
       "Granizo                  2\n",
       "Name: condicao_metereologica, dtype: int64"
      ]
     },
     "execution_count": 8,
     "metadata": {},
     "output_type": "execute_result"
    }
   ],
   "source": [
    "df['condicao_metereologica'].value_counts()\n"
   ]
  },
  {
   "cell_type": "markdown",
   "metadata": {},
   "source": [
    "### Os acidentes tem acontencido com maior fraquência em \"Céu Claro\" que teóricamente seria mais seguro para dirigir. ##\n",
    "\n",
    "### Creio que seja muito pela cultura de \"Está chovendo, tome cuidado\" e quando as condições estão favoráveis as pessoas não tendem a tomar muita atenção. ##"
   ]
  },
  {
   "cell_type": "code",
   "execution_count": 30,
   "metadata": {},
   "outputs": [
    {
     "data": {
      "text/plain": [
       "domingo          48345\n",
       "sábado           45497\n",
       "sexta-feira      43113\n",
       "segunda-feira    36669\n",
       "quarta-feira     34319\n",
       "Name: dia_semana, dtype: int64"
      ]
     },
     "execution_count": 30,
     "metadata": {},
     "output_type": "execute_result"
    }
   ],
   "source": [
    "df['dia_semana'].value_counts().head(5)"
   ]
  },
  {
   "cell_type": "markdown",
   "metadata": {},
   "source": [
    "## Com essa análise, podemos observar que o dia que mais ocorreu acidentes em 2020 foi Domingo.\n",
    "\n",
    "## Oque pode validar ainda mais nossa hipótese. "
   ]
  },
  {
   "cell_type": "code",
   "execution_count": 32,
   "metadata": {},
   "outputs": [
    {
     "data": {
      "text/plain": [
       "BRASILIA                4928\n",
       "CURITIBA                3522\n",
       "PORTO VELHO             3346\n",
       "BETIM                   2916\n",
       "GUARULHOS               2748\n",
       "SAO JOSE DOS PINHAIS    2139\n",
       "MARABA                  2058\n",
       "SAO JOSE                1924\n",
       "DUQUE DE CAXIAS         1757\n",
       "PALHOCA                 1721\n",
       "Name: municipio, dtype: int64"
      ]
     },
     "execution_count": 32,
     "metadata": {},
     "output_type": "execute_result"
    }
   ],
   "source": [
    "df['municipio'].value_counts().head(10)"
   ]
  },
  {
   "cell_type": "code",
   "execution_count": 110,
   "metadata": {},
   "outputs": [
    {
     "data": {
      "text/plain": [
       "<AxesSubplot:xlabel='uf', ylabel='count'>"
      ]
     },
     "execution_count": 110,
     "metadata": {},
     "output_type": "execute_result"
    },
    {
     "data": {
      "image/png": "[encoded data removed]",
      "text/plain": [
       "<Figure size 720x360 with 1 Axes>"
      ]
     },
     "metadata": {
      "needs_background": "light"
     },
     "output_type": "display_data"
    }
   ],
   "source": [
    "plt.figure(figsize=(10,5))\n",
    "sns.countplot(x='uf', data=df)"
   ]
  },
  {
   "cell_type": "markdown",
   "metadata": {},
   "source": [
    "## A situação de Minas Gerais se deve por ser um estados  com as piores estradas do Brasil. Como mostra a reportagem: https://www.youtube.com/watch?v=I7VbXGGShqE\n",
    "\n",
    "![Estradas](https://imgsapp.em.com.br/app/noticia_127983242361/2019/10/27/1096121/20191026212136165986o.png)"
   ]
  },
  {
   "cell_type": "markdown",
   "metadata": {},
   "source": [
    " ### Aqui nós podemos ver o top 10 dos municípios que mais ocorreram casos em 2020.\n",
    " \n",
    " ### Vamos verificar por municípios as principáis causas."
   ]
  },
  {
   "cell_type": "code",
   "execution_count": 138,
   "metadata": {},
   "outputs": [
    {
     "data": {
      "text/plain": [
       "Falta de Atenção à Condução                          83955\n",
       "Desobediência às normas de trânsito pelo condutor    41627\n",
       "Velocidade Incompatível                              34258\n",
       "Não guardar distância de segurança                   21423\n",
       "Ingestão de Álcool                                   17874\n",
       "Defeito Mecânico no Veículo                          10864\n",
       "Pista Escorregadia                                    9683\n",
       "Ultrapassagem Indevida                                7855\n",
       "Condutor Dormindo                                     7669\n",
       "Restrição de Visibilidade                             6535\n",
       "Name: causa_acidente, dtype: int64"
      ]
     },
     "execution_count": 138,
     "metadata": {},
     "output_type": "execute_result"
    }
   ],
   "source": [
    "df['causa_acidente'].value_counts().head(10)\n"
   ]
  },
  {
   "cell_type": "markdown",
   "metadata": {},
   "source": [
    "![falta de atenção](https://www.mtrans.com.br/wp-content/uploads/2019/12/Blog_Falta-de-aten%C3%A7%C3%A3o-no-transito.jpeg)"
   ]
  },
  {
   "cell_type": "markdown",
   "metadata": {},
   "source": [
    "### Aqui nós podemos concluir que a hipótese estava certa, A causa mais frequênte no tránsito é a Falta de atenção.\n",
    "\n",
    "### Podemos melhorar isso, com campanhas para mudar a forma de pensar dos condutores e assim melhoras os casos de acidentes no Brasil."
   ]
  },
  {
   "cell_type": "code",
   "execution_count": 194,
   "metadata": {},
   "outputs": [
    {
     "data": {
      "text/html": [
       "<div>\n",
       "<style scoped>\n",
       "    .dataframe tbody tr th:only-of-type {\n",
       "        vertical-align: middle;\n",
       "    }\n",
       "\n",
       "    .dataframe tbody tr th {\n",
       "        vertical-align: top;\n",
       "    }\n",
       "\n",
       "    .dataframe thead th {\n",
       "        text-align: right;\n",
       "    }\n",
       "</style>\n",
       "<table border=\"1\" class=\"dataframe\">\n",
       "  <thead>\n",
       "    <tr style=\"text-align: right;\">\n",
       "      <th>mortos</th>\n",
       "      <th>0</th>\n",
       "      <th>1</th>\n",
       "    </tr>\n",
       "    <tr>\n",
       "      <th>causa_acidente</th>\n",
       "      <th></th>\n",
       "      <th></th>\n",
       "    </tr>\n",
       "  </thead>\n",
       "  <tbody>\n",
       "    <tr>\n",
       "      <th>Falta de Atenção à Condução</th>\n",
       "      <td>81399</td>\n",
       "      <td>2556</td>\n",
       "    </tr>\n",
       "    <tr>\n",
       "      <th>Ingestão de Álcool</th>\n",
       "      <td>17071</td>\n",
       "      <td>803</td>\n",
       "    </tr>\n",
       "  </tbody>\n",
       "</table>\n",
       "</div>"
      ],
      "text/plain": [
       "mortos                           0     1\n",
       "causa_acidente                          \n",
       "Falta de Atenção à Condução  81399  2556\n",
       "Ingestão de Álcool           17071   803"
      ]
     },
     "execution_count": 194,
     "metadata": {},
     "output_type": "execute_result"
    }
   ],
   "source": [
    "causa_morte = df.groupby(by=['causa_acidente','mortos']).count()['uf'].unstack()\n",
    "causa_morte.query('causa_acidente == \"Ingestão de Álcool\" or causa_acidente == \"Falta de Atenção à Condução\" ')\n",
    "\n",
    "#Aqui Podemos ver que a falta de atenção mata mais do que a Ingestão de bebidas alcoólicas."
   ]
  },
  {
   "cell_type": "markdown",
   "metadata": {},
   "source": [
    "------------------------------------------------------------------------------------------------------------------------------\n",
    "## Vamos verificar em qual fase do dia mais ocorrem os acidentes em relação ao dia da semana. ##"
   ]
  },
  {
   "cell_type": "code",
   "execution_count": 13,
   "metadata": {},
   "outputs": [
    {
     "data": {
      "text/plain": [
       "<AxesSubplot:xlabel='fase_dia', ylabel='count'>"
      ]
     },
     "execution_count": 13,
     "metadata": {},
     "output_type": "execute_result"
    },
    {
     "data": {
      "image/png": "[encoded data removed]",
      "text/plain": [
       "<Figure size 432x288 with 1 Axes>"
      ]
     },
     "metadata": {
      "needs_background": "light"
     },
     "output_type": "display_data"
    }
   ],
   "source": [
    "sns.countplot(x='fase_dia', data=df, hue ='dia_semana')"
   ]
  },
  {
   "cell_type": "code",
   "execution_count": 48,
   "metadata": {},
   "outputs": [
    {
     "data": {
      "text/plain": [
       "<AxesSubplot:xlabel='dia_semana', ylabel='count'>"
      ]
     },
     "execution_count": 48,
     "metadata": {},
     "output_type": "execute_result"
    },
    {
     "data": {
      "image/png": "[encoded data removed]",
      "text/plain": [
       "<Figure size 432x288 with 1 Axes>"
      ]
     },
     "metadata": {
      "needs_background": "light"
     },
     "output_type": "display_data"
    }
   ],
   "source": [
    "sns.countplot(x='dia_semana', data=df, hue ='fase_dia')"
   ]
  },
  {
   "cell_type": "code",
   "execution_count": 89,
   "metadata": {},
   "outputs": [
    {
     "data": {
      "text/plain": [
       "<AxesSubplot:xlabel='fase_dia', ylabel='dia_semana'>"
      ]
     },
     "execution_count": 89,
     "metadata": {},
     "output_type": "execute_result"
    },
    {
     "data": {
      "image/png": "[encoded data removed]",
      "text/plain": [
       "<Figure size 432x288 with 2 Axes>"
      ]
     },
     "metadata": {
      "needs_background": "light"
     },
     "output_type": "display_data"
    }
   ],
   "source": [
    "maior_causas = df.groupby(by=['dia_semana','fase_dia']).count()['municipio'].unstack()\n",
    "sns.heatmap(maior_causas,cmap='magma')\n",
    "\n",
    "\n",
    "# Por aqui conseguimos identificar que todos os dias da semana ocorrem acidentes."
   ]
  },
  {
   "cell_type": "markdown",
   "metadata": {},
   "source": [
    "## Logo podemos nos atentar que os casos ocorrem de forma mais intesa em Pleno dia e em Plena Noite.\n",
    "\n",
    "### Será que isso tem alguma relação com os horários brasileiros? Vamos descobrir."
   ]
  },
  {
   "cell_type": "markdown",
   "metadata": {},
   "source": [
    "--------------------------------------------------------------------------\n",
    "## Vamos trabalhar um pouco com datas nesse momento. Portanto é preciso verificar se as datas estão no tipo certo. ##\n",
    "\n",
    "### Vamos verificar o tipo de dados na coluna \"data_inversa\" ##"
   ]
  },
  {
   "cell_type": "code",
   "execution_count": 19,
   "metadata": {},
   "outputs": [
    {
     "data": {
      "text/plain": [
       "str"
      ]
     },
     "execution_count": 19,
     "metadata": {},
     "output_type": "execute_result"
    }
   ],
   "source": [
    "type(df['data_inversa'].iloc[0]) # Agora já sabemos que vamos ter que realizar uma conversão de dados."
   ]
  },
  {
   "cell_type": "code",
   "execution_count": 22,
   "metadata": {},
   "outputs": [],
   "source": [
    "df['data_inversa'] = pd.to_datetime(df['data_inversa']) \n",
    "# Para transformar uma coluna em data, nós utilizamos uma ferramenta do pandas para facilitar"
   ]
  },
  {
   "cell_type": "markdown",
   "metadata": {},
   "source": [
    "## Temos as datas prontas para trabalhar, Mas será que não é interesante separar os meses para obter um parâmetro um pouco mais preciso? ##\n",
    "\n",
    "## Portando, vamos realizar uma função para aplicar essa nova coluna. ##"
   ]
  },
  {
   "cell_type": "code",
   "execution_count": 24,
   "metadata": {
    "scrolled": true
   },
   "outputs": [
    {
     "data": {
      "text/html": [
       "<div>\n",
       "<style scoped>\n",
       "    .dataframe tbody tr th:only-of-type {\n",
       "        vertical-align: middle;\n",
       "    }\n",
       "\n",
       "    .dataframe tbody tr th {\n",
       "        vertical-align: top;\n",
       "    }\n",
       "\n",
       "    .dataframe thead th {\n",
       "        text-align: right;\n",
       "    }\n",
       "</style>\n",
       "<table border=\"1\" class=\"dataframe\">\n",
       "  <thead>\n",
       "    <tr style=\"text-align: right;\">\n",
       "      <th></th>\n",
       "      <th>id</th>\n",
       "      <th>pesid</th>\n",
       "      <th>data_inversa</th>\n",
       "      <th>dia_semana</th>\n",
       "      <th>horario</th>\n",
       "      <th>uf</th>\n",
       "      <th>br</th>\n",
       "      <th>km</th>\n",
       "      <th>municipio</th>\n",
       "      <th>causa_principal</th>\n",
       "      <th>...</th>\n",
       "      <th>ilesos</th>\n",
       "      <th>feridos_leves</th>\n",
       "      <th>feridos_graves</th>\n",
       "      <th>mortos</th>\n",
       "      <th>latitude</th>\n",
       "      <th>longitude</th>\n",
       "      <th>regional</th>\n",
       "      <th>delegacia</th>\n",
       "      <th>uop</th>\n",
       "      <th>Mês</th>\n",
       "    </tr>\n",
       "  </thead>\n",
       "  <tbody>\n",
       "    <tr>\n",
       "      <th>92349</th>\n",
       "      <td>278026.0</td>\n",
       "      <td>620458.0</td>\n",
       "      <td>2020-04-01</td>\n",
       "      <td>quarta-feira</td>\n",
       "      <td>20:50:00</td>\n",
       "      <td>PI</td>\n",
       "      <td>316.0</td>\n",
       "      <td>7,5</td>\n",
       "      <td>TERESINA</td>\n",
       "      <td>Não</td>\n",
       "      <td>...</td>\n",
       "      <td>0</td>\n",
       "      <td>1</td>\n",
       "      <td>0</td>\n",
       "      <td>0</td>\n",
       "      <td>-5,15584638</td>\n",
       "      <td>-42,77173332</td>\n",
       "      <td>SR-PI</td>\n",
       "      <td>UOP02</td>\n",
       "      <td>DEL01</td>\n",
       "      <td>4</td>\n",
       "    </tr>\n",
       "  </tbody>\n",
       "</table>\n",
       "<p>1 rows × 38 columns</p>\n",
       "</div>"
      ],
      "text/plain": [
       "             id     pesid data_inversa    dia_semana   horario  uf     br  \\\n",
       "92349  278026.0  620458.0   2020-04-01  quarta-feira  20:50:00  PI  316.0   \n",
       "\n",
       "        km municipio causa_principal  ... ilesos  feridos_leves  \\\n",
       "92349  7,5  TERESINA             Não  ...      0              1   \n",
       "\n",
       "      feridos_graves mortos     latitude     longitude regional delegacia  \\\n",
       "92349              0      0  -5,15584638  -42,77173332    SR-PI     UOP02   \n",
       "\n",
       "         uop Mês  \n",
       "92349  DEL01   4  \n",
       "\n",
       "[1 rows x 38 columns]"
      ]
     },
     "execution_count": 24,
     "metadata": {},
     "output_type": "execute_result"
    }
   ],
   "source": [
    "df['Mês'] = df['data_inversa'].apply(lambda data: data.month)\n",
    "df.sample()"
   ]
  },
  {
   "cell_type": "markdown",
   "metadata": {},
   "source": [
    "## Agora com os meses separados, podemos analisar de forma mais visual e objetiva."
   ]
  },
  {
   "cell_type": "code",
   "execution_count": 50,
   "metadata": {},
   "outputs": [
    {
     "data": {
      "text/plain": [
       "<AxesSubplot:xlabel='Mês'>"
      ]
     },
     "execution_count": 50,
     "metadata": {},
     "output_type": "execute_result"
    },
    {
     "data": {
      "image/png": "[encoded data removed]",
      "text/plain": [
       "<Figure size 432x288 with 1 Axes>"
      ]
     },
     "metadata": {
      "needs_background": "light"
     },
     "output_type": "display_data"
    }
   ],
   "source": [
    "byData = df.groupby('Mês').count()\n",
    "byData['municipio'].plot()"
   ]
  },
  {
   "cell_type": "markdown",
   "metadata": {},
   "source": [
    "## Essa queda entre fevereiro até julho se deve a primeira onda da Pandemia, como explicado na matéria da Jovem Pam:\n",
    "\n",
    "### _\"A circulação de carros caiu mais de 50% nas estradas e rodovias. Entre a declaração da pandemia pela Organização Mundial da Saúde (OMS), de 10 a 13 de março, até a quarentena imposta, o movimento baixou de 8,2 milhões para 3,4 milhões veículos leves nas rodovias.\"_\n",
    "\n",
    "#### https://jovempan.com.br/programas/jornal-da-manha/coronavirus-transito-estradas-cidades.html\n",
    "\n",
    "![Queda do fluxo](https://jpimg.com.br/uploads/2018/12/WPP20181226019-1024x682.jpg)"
   ]
  },
  {
   "cell_type": "code",
   "execution_count": 106,
   "metadata": {},
   "outputs": [
    {
     "data": {
      "text/plain": [
       "<AxesSubplot:xlabel='Mês', ylabel='condicao_metereologica'>"
      ]
     },
     "execution_count": 106,
     "metadata": {},
     "output_type": "execute_result"
    },
    {
     "data": {
      "image/png": "[encoded data removed]",
      "text/plain": [
       "<Figure size 432x288 with 2 Axes>"
      ]
     },
     "metadata": {
      "needs_background": "light"
     },
     "output_type": "display_data"
    }
   ],
   "source": [
    "Mesmunicipio = df.groupby(by=['condicao_metereologica','Mês']).count()['municipio'].unstack()\n",
    "sns.heatmap(Mesmunicipio,cmap='magma')"
   ]
  },
  {
   "cell_type": "markdown",
   "metadata": {},
   "source": [
    "### Por aqui podemos verificar que os casos ficaram mais intensos no começo e no final do ano. E ainda sim os casos mais comuns em dias de Céu claro."
   ]
  },
  {
   "cell_type": "markdown",
   "metadata": {},
   "source": [
    "--------------------------------------------------------------\n",
    "## Nesse mesmo pensamento, vamos atribuir uma coluna com somente as horas redondas para também termos um visão mais objetiva desses dados. ##\n",
    "\n",
    "### Para isso vamos utilizar uma função! ###"
   ]
  },
  {
   "cell_type": "code",
   "execution_count": 27,
   "metadata": {},
   "outputs": [
    {
     "data": {
      "text/html": [
       "<div>\n",
       "<style scoped>\n",
       "    .dataframe tbody tr th:only-of-type {\n",
       "        vertical-align: middle;\n",
       "    }\n",
       "\n",
       "    .dataframe tbody tr th {\n",
       "        vertical-align: top;\n",
       "    }\n",
       "\n",
       "    .dataframe thead th {\n",
       "        text-align: right;\n",
       "    }\n",
       "</style>\n",
       "<table border=\"1\" class=\"dataframe\">\n",
       "  <thead>\n",
       "    <tr style=\"text-align: right;\">\n",
       "      <th></th>\n",
       "      <th>id</th>\n",
       "      <th>pesid</th>\n",
       "      <th>data_inversa</th>\n",
       "      <th>dia_semana</th>\n",
       "      <th>horario</th>\n",
       "      <th>uf</th>\n",
       "      <th>br</th>\n",
       "      <th>km</th>\n",
       "      <th>municipio</th>\n",
       "      <th>causa_principal</th>\n",
       "      <th>...</th>\n",
       "      <th>feridos_leves</th>\n",
       "      <th>feridos_graves</th>\n",
       "      <th>mortos</th>\n",
       "      <th>latitude</th>\n",
       "      <th>longitude</th>\n",
       "      <th>regional</th>\n",
       "      <th>delegacia</th>\n",
       "      <th>uop</th>\n",
       "      <th>Mês</th>\n",
       "      <th>Horas</th>\n",
       "    </tr>\n",
       "  </thead>\n",
       "  <tbody>\n",
       "    <tr>\n",
       "      <th>0</th>\n",
       "      <td>260031.0</td>\n",
       "      <td>578987.0</td>\n",
       "      <td>2020-01-01</td>\n",
       "      <td>quarta-feira</td>\n",
       "      <td>01:00:00</td>\n",
       "      <td>TO</td>\n",
       "      <td>153.0</td>\n",
       "      <td>678,1</td>\n",
       "      <td>GURUPI</td>\n",
       "      <td>Sim</td>\n",
       "      <td>...</td>\n",
       "      <td>0</td>\n",
       "      <td>1</td>\n",
       "      <td>0</td>\n",
       "      <td>-11,77460203</td>\n",
       "      <td>-49,10744996</td>\n",
       "      <td>SR-TO</td>\n",
       "      <td>UOP01/TO</td>\n",
       "      <td>NaN</td>\n",
       "      <td>1</td>\n",
       "      <td>01</td>\n",
       "    </tr>\n",
       "    <tr>\n",
       "      <th>1</th>\n",
       "      <td>260031.0</td>\n",
       "      <td>578986.0</td>\n",
       "      <td>2020-01-01</td>\n",
       "      <td>quarta-feira</td>\n",
       "      <td>01:00:00</td>\n",
       "      <td>TO</td>\n",
       "      <td>153.0</td>\n",
       "      <td>678,1</td>\n",
       "      <td>GURUPI</td>\n",
       "      <td>Sim</td>\n",
       "      <td>...</td>\n",
       "      <td>0</td>\n",
       "      <td>1</td>\n",
       "      <td>0</td>\n",
       "      <td>-11,77460203</td>\n",
       "      <td>-49,10744996</td>\n",
       "      <td>SR-TO</td>\n",
       "      <td>UOP01/TO</td>\n",
       "      <td>NaN</td>\n",
       "      <td>1</td>\n",
       "      <td>01</td>\n",
       "    </tr>\n",
       "    <tr>\n",
       "      <th>2</th>\n",
       "      <td>260031.0</td>\n",
       "      <td>578988.0</td>\n",
       "      <td>2020-01-01</td>\n",
       "      <td>quarta-feira</td>\n",
       "      <td>01:00:00</td>\n",
       "      <td>TO</td>\n",
       "      <td>153.0</td>\n",
       "      <td>678,1</td>\n",
       "      <td>GURUPI</td>\n",
       "      <td>Sim</td>\n",
       "      <td>...</td>\n",
       "      <td>0</td>\n",
       "      <td>1</td>\n",
       "      <td>0</td>\n",
       "      <td>-11,77460203</td>\n",
       "      <td>-49,10744996</td>\n",
       "      <td>SR-TO</td>\n",
       "      <td>UOP01/TO</td>\n",
       "      <td>NaN</td>\n",
       "      <td>1</td>\n",
       "      <td>01</td>\n",
       "    </tr>\n",
       "    <tr>\n",
       "      <th>3</th>\n",
       "      <td>260031.0</td>\n",
       "      <td>578991.0</td>\n",
       "      <td>2020-01-01</td>\n",
       "      <td>quarta-feira</td>\n",
       "      <td>01:00:00</td>\n",
       "      <td>TO</td>\n",
       "      <td>153.0</td>\n",
       "      <td>678,1</td>\n",
       "      <td>GURUPI</td>\n",
       "      <td>Sim</td>\n",
       "      <td>...</td>\n",
       "      <td>0</td>\n",
       "      <td>1</td>\n",
       "      <td>0</td>\n",
       "      <td>-11,77460203</td>\n",
       "      <td>-49,10744996</td>\n",
       "      <td>SR-TO</td>\n",
       "      <td>UOP01/TO</td>\n",
       "      <td>NaN</td>\n",
       "      <td>1</td>\n",
       "      <td>01</td>\n",
       "    </tr>\n",
       "    <tr>\n",
       "      <th>4</th>\n",
       "      <td>260031.0</td>\n",
       "      <td>578475.0</td>\n",
       "      <td>2020-01-01</td>\n",
       "      <td>quarta-feira</td>\n",
       "      <td>01:00:00</td>\n",
       "      <td>TO</td>\n",
       "      <td>153.0</td>\n",
       "      <td>678,1</td>\n",
       "      <td>GURUPI</td>\n",
       "      <td>Sim</td>\n",
       "      <td>...</td>\n",
       "      <td>0</td>\n",
       "      <td>1</td>\n",
       "      <td>0</td>\n",
       "      <td>-11,77460203</td>\n",
       "      <td>-49,10744996</td>\n",
       "      <td>SR-TO</td>\n",
       "      <td>UOP01/TO</td>\n",
       "      <td>NaN</td>\n",
       "      <td>1</td>\n",
       "      <td>01</td>\n",
       "    </tr>\n",
       "  </tbody>\n",
       "</table>\n",
       "<p>5 rows × 39 columns</p>\n",
       "</div>"
      ],
      "text/plain": [
       "         id     pesid data_inversa    dia_semana   horario  uf     br     km  \\\n",
       "0  260031.0  578987.0   2020-01-01  quarta-feira  01:00:00  TO  153.0  678,1   \n",
       "1  260031.0  578986.0   2020-01-01  quarta-feira  01:00:00  TO  153.0  678,1   \n",
       "2  260031.0  578988.0   2020-01-01  quarta-feira  01:00:00  TO  153.0  678,1   \n",
       "3  260031.0  578991.0   2020-01-01  quarta-feira  01:00:00  TO  153.0  678,1   \n",
       "4  260031.0  578475.0   2020-01-01  quarta-feira  01:00:00  TO  153.0  678,1   \n",
       "\n",
       "  municipio causa_principal  ... feridos_leves  feridos_graves mortos  \\\n",
       "0    GURUPI             Sim  ...             0               1      0   \n",
       "1    GURUPI             Sim  ...             0               1      0   \n",
       "2    GURUPI             Sim  ...             0               1      0   \n",
       "3    GURUPI             Sim  ...             0               1      0   \n",
       "4    GURUPI             Sim  ...             0               1      0   \n",
       "\n",
       "       latitude     longitude regional delegacia  uop Mês Horas  \n",
       "0  -11,77460203  -49,10744996    SR-TO  UOP01/TO  NaN   1    01  \n",
       "1  -11,77460203  -49,10744996    SR-TO  UOP01/TO  NaN   1    01  \n",
       "2  -11,77460203  -49,10744996    SR-TO  UOP01/TO  NaN   1    01  \n",
       "3  -11,77460203  -49,10744996    SR-TO  UOP01/TO  NaN   1    01  \n",
       "4  -11,77460203  -49,10744996    SR-TO  UOP01/TO  NaN   1    01  \n",
       "\n",
       "[5 rows x 39 columns]"
      ]
     },
     "execution_count": 27,
     "metadata": {},
     "output_type": "execute_result"
    }
   ],
   "source": [
    "df['Horas'] = df['horario'].apply(lambda h: h.split(':')[0])\n",
    "df.head()"
   ]
  },
  {
   "cell_type": "code",
   "execution_count": 125,
   "metadata": {},
   "outputs": [
    {
     "data": {
      "text/plain": [
       "<AxesSubplot:xlabel='Horas'>"
      ]
     },
     "execution_count": 125,
     "metadata": {},
     "output_type": "execute_result"
    },
    {
     "data": {
      "image/png": "[encoded data removed]",
      "text/plain": [
       "<Figure size 432x288 with 1 Axes>"
      ]
     },
     "metadata": {
      "needs_background": "light"
     },
     "output_type": "display_data"
    }
   ],
   "source": [
    "byData = df.groupby('Horas').count()\n",
    "byData['municipio'].plot()"
   ]
  },
  {
   "cell_type": "markdown",
   "metadata": {},
   "source": [
    "## Legal relatar que com essa análise, nós podemos ver que os horários que mais ocorrem acidentes são das 05hrs/10 hrs  e  das 15hrs as 20hrs.\n",
    "\n",
    "## Creio que isso se deve pois são os horários de maior circulação de veículos em todo o Brasil por conta do horário de trabalho ou pelo horário comercial."
   ]
  },
  {
   "cell_type": "code",
   "execution_count": 100,
   "metadata": {
    "scrolled": true
   },
   "outputs": [
    {
     "data": {
      "text/plain": [
       "<AxesSubplot:xlabel='Horas', ylabel='dia_semana'>"
      ]
     },
     "execution_count": 100,
     "metadata": {},
     "output_type": "execute_result"
    },
    {
     "data": {
      "image/png": "[encoded data removed]",
      "text/plain": [
       "<Figure size 864x360 with 2 Axes>"
      ]
     },
     "metadata": {
      "needs_background": "light"
     },
     "output_type": "display_data"
    }
   ],
   "source": [
    "dayHour = df.groupby(by=['dia_semana','Horas']).count()['municipio'].unstack()\n",
    "plt.figure(figsize=(12,5))\n",
    "sns.heatmap(dayHour,cmap='viridis')"
   ]
  },
  {
   "cell_type": "code",
   "execution_count": 133,
   "metadata": {
    "scrolled": true
   },
   "outputs": [
    {
     "data": {
      "text/plain": [
       "<AxesSubplot:xlabel='Mês', ylabel='dia_semana'>"
      ]
     },
     "execution_count": 133,
     "metadata": {},
     "output_type": "execute_result"
    },
    {
     "data": {
      "image/png": "[encoded data removed]",
      "text/plain": [
       "<Figure size 864x360 with 2 Axes>"
      ]
     },
     "metadata": {
      "needs_background": "light"
     },
     "output_type": "display_data"
    }
   ],
   "source": [
    "diames= df.groupby(by=['dia_semana','Mês']).count()['municipio'].unstack()\n",
    "plt.figure(figsize=(12,5))\n",
    "sns.heatmap(diames,cmap='viridis')"
   ]
  },
  {
   "cell_type": "code",
   "execution_count": 134,
   "metadata": {},
   "outputs": [
    {
     "data": {
      "text/plain": [
       "<seaborn.matrix.ClusterGrid at 0x2b5ba9aeeb0>"
      ]
     },
     "execution_count": 134,
     "metadata": {},
     "output_type": "execute_result"
    },
    {
     "data": {
      "image/png": "[encoded data removed]",
      "text/plain": [
       "<Figure size 720x720 with 4 Axes>"
      ]
     },
     "metadata": {
      "needs_background": "light"
     },
     "output_type": "display_data"
    }
   ],
   "source": [
    "sns.clustermap(diames)"
   ]
  },
  {
   "cell_type": "code",
   "execution_count": 71,
   "metadata": {},
   "outputs": [
    {
     "data": {
      "text/plain": [
       "Masculino        175484\n",
       "Feminino          49934\n",
       "Não Informado     48940\n",
       "Ignorado            917\n",
       "Name: sexo, dtype: int64"
      ]
     },
     "execution_count": 71,
     "metadata": {},
     "output_type": "execute_result"
    }
   ],
   "source": [
    "df['sexo'].value_counts()"
   ]
  },
  {
   "cell_type": "code",
   "execution_count": 115,
   "metadata": {},
   "outputs": [
    {
     "data": {
      "text/plain": [
       "<AxesSubplot:xlabel='sexo', ylabel='count'>"
      ]
     },
     "execution_count": 115,
     "metadata": {},
     "output_type": "execute_result"
    },
    {
     "data": {
      "image/png": "[encoded data removed]",
      "text/plain": [
       "<Figure size 432x288 with 1 Axes>"
      ]
     },
     "metadata": {
      "needs_background": "light"
     },
     "output_type": "display_data"
    }
   ],
   "source": [
    "sns.countplot(x='sexo', data=df)"
   ]
  },
  {
   "cell_type": "code",
   "execution_count": 132,
   "metadata": {},
   "outputs": [
    {
     "data": {
      "text/plain": [
       "<AxesSubplot:xlabel='uf', ylabel='count'>"
      ]
     },
     "execution_count": 132,
     "metadata": {},
     "output_type": "execute_result"
    },
    {
     "data": {
      "image/png": "[encoded data removed]",
      "text/plain": [
       "<Figure size 864x432 with 1 Axes>"
      ]
     },
     "metadata": {
      "needs_background": "light"
     },
     "output_type": "display_data"
    }
   ],
   "source": [
    "plt.figure(figsize=(12,6))\n",
    "sns.countplot(x='uf', data=df, hue ='sexo')"
   ]
  },
  {
   "cell_type": "code",
   "execution_count": 130,
   "metadata": {},
   "outputs": [
    {
     "data": {
      "text/plain": [
       "<AxesSubplot:xlabel='Mês', ylabel='count'>"
      ]
     },
     "execution_count": 130,
     "metadata": {},
     "output_type": "execute_result"
    },
    {
     "data": {
      "image/png": "[encoded data removed]",
      "text/plain": [
       "<Figure size 864x576 with 1 Axes>"
      ]
     },
     "metadata": {
      "needs_background": "light"
     },
     "output_type": "display_data"
    }
   ],
   "source": [
    "plt.figure(figsize=(12,8))\n",
    "sns.countplot(x='Mês', data=df, hue ='sexo')"
   ]
  },
  {
   "cell_type": "code",
   "execution_count": 117,
   "metadata": {},
   "outputs": [
    {
     "name": "stdout",
     "output_type": "stream",
     "text": [
      "275275\n"
     ]
    }
   ],
   "source": [
    "x = 175484 + 49934 + 48940 + 917\n",
    "x"
   ]
  },
  {
   "cell_type": "code",
   "execution_count": 122,
   "metadata": {},
   "outputs": [
    {
     "data": {
      "text/plain": [
       "75693"
      ]
     },
     "execution_count": 122,
     "metadata": {},
     "output_type": "execute_result"
    }
   ],
   "source": [
    "valorF = 49934 + 48940 + 917\n",
    "valorF_M = 175484 - valorF\n",
    "valorF_M"
   ]
  },
  {
   "cell_type": "markdown",
   "metadata": {},
   "source": [
    "## Será mesmo que as mulheres são tão \"Barbeiras\" assim? Concluímos que NÃO!"
   ]
  },
  {
   "cell_type": "code",
   "execution_count": 123,
   "metadata": {},
   "outputs": [
    {
     "data": {
      "text/plain": [
       "<seaborn.matrix.ClusterGrid at 0x2b51d7df670>"
      ]
     },
     "execution_count": 123,
     "metadata": {},
     "output_type": "execute_result"
    },
    {
     "data": {
      "text/plain": [
       "<Figure size 864x576 with 0 Axes>"
      ]
     },
     "metadata": {},
     "output_type": "display_data"
    },
    {
     "data": {
      "image/png": "[encoded data removed]",
      "text/plain": [
       "<Figure size 720x720 with 4 Axes>"
      ]
     },
     "metadata": {
      "needs_background": "light"
     },
     "output_type": "display_data"
    }
   ],
   "source": [
    "dia_uf = df.groupby(by=['uf','dia_semana']).count()['municipio'].unstack()\n",
    "plt.figure(figsize=(12,8))\n",
    "sns.clustermap(dia_uf,cmap='viridis')"
   ]
  }
 ],
 "metadata": {
  "kernelspec": {
   "display_name": "Python 3",
   "language": "python",
   "name": "python3"
  },
  "language_info": {
   "codemirror_mode": {
    "name": "ipython",
    "version": 3
   },
   "file_extension": ".py",
   "mimetype": "text/x-python",
   "name": "python",
   "nbconvert_exporter": "python",
   "pygments_lexer": "ipython3",
   "version": "3.8.7"
  }
 },
 "nbformat": 4,
 "nbformat_minor": 4
}
